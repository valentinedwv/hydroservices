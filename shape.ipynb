{
 "worksheets": [
  {
   "cells": [
    {
     "cell_type": "code",
     "metadata": {},
     "outputs": [],
     "input": [
      "from geoserver.catalog import Catalog\n",
      "cat = Catalog(\"http://hydroservices.cloudapp.net:8080/geoserver/rest\")\n",
      "resources = cat.get_resources()\n",
      "workspace = cat.get_workspace(\"hydroshare_raster\")\n",
      "cat.create_coveragestore(\"aname3\",'f:\\\\downloads\\\\logan.tif',workspace)"
     ],
     "language": "python"
    }
   ]
  }
 ],
 "cells": [],
 "metadata": {},
 "nbformat": 3,
 "nbformat_minor": 0
}