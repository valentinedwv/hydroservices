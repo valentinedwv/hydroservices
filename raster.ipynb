{
 "cells": [
  {
   "cell_type": "code",
   "execution_count": 2,
   "metadata": {},
   "outputs": [
    {
     "ename": "ConflictingDataError",
     "evalue": "There is already a store named aname4 in hydroshare_raster @ http://hydroservices.cloudapp.net:8080/geoserver/rest/workspaces/hydroshare_raster.xml",
     "output_type": "error",
     "traceback": [
      "\u001b[1;31m---------------------------------------------------------------------------\u001b[0m",
      "\u001b[1;31mConflictingDataError\u001b[0m                      Traceback (most recent call last)",
      "\u001b[1;32m<ipython-input-2-1e2221b3427f>\u001b[0m in \u001b[0;36m<module>\u001b[1;34m()\u001b[0m\n\u001b[0;32m      3\u001b[0m \u001b[0mresources\u001b[0m \u001b[1;33m=\u001b[0m \u001b[0mcat\u001b[0m\u001b[1;33m.\u001b[0m\u001b[0mget_resources\u001b[0m\u001b[1;33m(\u001b[0m\u001b[1;33m)\u001b[0m\u001b[1;33m\u001b[0m\u001b[0m\n\u001b[0;32m      4\u001b[0m \u001b[0mworkspace\u001b[0m \u001b[1;33m=\u001b[0m \u001b[0mcat\u001b[0m\u001b[1;33m.\u001b[0m\u001b[0mget_workspace\u001b[0m\u001b[1;33m(\u001b[0m\u001b[1;34m\"hydroshare_raster\"\u001b[0m\u001b[1;33m)\u001b[0m\u001b[1;33m\u001b[0m\u001b[0m\n\u001b[1;32m----> 5\u001b[1;33m \u001b[0mcat\u001b[0m\u001b[1;33m.\u001b[0m\u001b[0mcreate_coveragestore\u001b[0m\u001b[1;33m(\u001b[0m\u001b[1;34m\"aname4\"\u001b[0m\u001b[1;33m,\u001b[0m\u001b[1;34m'sampledata/geotiff_utm/logan.tif'\u001b[0m\u001b[1;33m,\u001b[0m\u001b[0mworkspace\u001b[0m\u001b[1;33m)\u001b[0m\u001b[1;33m\u001b[0m\u001b[0m\n\u001b[0m",
      "\u001b[1;32mC:\\Anaconda\\lib\\site-packages\\geoserver\\catalog.pyc\u001b[0m in \u001b[0;36mcreate_coveragestore\u001b[1;34m(self, name, data, workspace, overwrite)\u001b[0m\n\u001b[0;32m    447\u001b[0m                 \u001b[1;32mif\u001b[0m \u001b[0mworkspace\u001b[0m\u001b[1;33m:\u001b[0m\u001b[1;33m\u001b[0m\u001b[0m\n\u001b[0;32m    448\u001b[0m                     \u001b[0mmsg\u001b[0m \u001b[1;33m+=\u001b[0m \u001b[1;34m\" in \"\u001b[0m \u001b[1;33m+\u001b[0m \u001b[0mstr\u001b[0m\u001b[1;33m(\u001b[0m\u001b[0mworkspace\u001b[0m\u001b[1;33m)\u001b[0m\u001b[1;33m\u001b[0m\u001b[0m\n\u001b[1;32m--> 449\u001b[1;33m                 \u001b[1;32mraise\u001b[0m \u001b[0mConflictingDataError\u001b[0m\u001b[1;33m(\u001b[0m\u001b[0mmsg\u001b[0m\u001b[1;33m)\u001b[0m\u001b[1;33m\u001b[0m\u001b[0m\n\u001b[0m\u001b[0;32m    450\u001b[0m             \u001b[1;32mexcept\u001b[0m \u001b[0mFailedRequestError\u001b[0m\u001b[1;33m:\u001b[0m\u001b[1;33m\u001b[0m\u001b[0m\n\u001b[0;32m    451\u001b[0m                 \u001b[1;31m# we don't really expect that every layer name will be taken\u001b[0m\u001b[1;33m\u001b[0m\u001b[1;33m\u001b[0m\u001b[0m\n",
      "\u001b[1;31mConflictingDataError\u001b[0m: There is already a store named aname4 in hydroshare_raster @ http://hydroservices.cloudapp.net:8080/geoserver/rest/workspaces/hydroshare_raster.xml"
     ]
    }
   ],
   "source": [
    "from geoserver.catalog import Catalog\n",
    "cat = Catalog(\"http://hydroservices.cloudapp.net:8080/geoserver/rest\")\n",
    "resources = cat.get_resources()\n",
    "workspace = cat.get_workspace(\"hydroshare_raster\")\n",
    "cat.create_coveragestore(\"aname4\",'sampledata/geotiff_utm/logan.tif',workspace)"
   ]
  },
  {
   "cell_type": "code",
   "metadata": {},
   "outputs": [],
   "source": [
    "cat.get"
   ]
  },
  {
   "cell_type": "code",
   "metadata": {},
   "outputs": [],
   "source": [
    ""
   ]
  }
 ],
 "metadata": {
  "language_info": {
   "codemirror_mode": {
    "name": "ipython",
    "version": 2.0
   },
   "file_extension": ".py",
   "mimetype": "text/x-python",
   "name": "python",
   "nbconvert_exporter": "python",
   "pygments_lexer": "ipython2",
   "version": "2.7.5"
  }
 },
 "nbformat": 4,
 "nbformat_minor": 0
}